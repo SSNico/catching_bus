{
 "cells": [
  {
   "cell_type": "code",
   "execution_count": 1,
   "metadata": {
    "collapsed": false
   },
   "outputs": [
    {
     "name": "stdout",
     "output_type": "stream",
     "text": [
      "for bus stop 1\n",
      "best parameter G: 1.5000 and best parameter cost: 128.0000 with min sMape: 1.0742 \n",
      "for bus stop 2\n",
      "best parameter G: 0.2000 and best parameter cost: 128.0000 with min sMape: 0.9117 \n",
      "for bus stop 3\n",
      "best parameter G: 3.0000 and best parameter cost: 512.0000 with min sMape: 1.1381 \n",
      "for bus stop 4\n",
      "best parameter G: 0.2000 and best parameter cost: 128.0000 with min sMape: 0.8000 \n",
      "for bus stop 5\n",
      "best parameter G: 1.5000 and best parameter cost: 128.0000 with min sMape: 1.0068 \n",
      "for bus stop 6\n",
      "best parameter G: 0.9000 and best parameter cost: 32.0000 with min sMape: 0.8360 \n",
      "for bus stop 7\n",
      "best parameter G: 0.4000 and best parameter cost: 32.0000 with min sMape: 0.9050 \n",
      "for bus stop 8\n",
      "best parameter G: 1.5000 and best parameter cost: 32.0000 with min sMape: 0.9468 \n",
      "for bus stop 9\n",
      "best parameter G: 0.2000 and best parameter cost: 128.0000 with min sMape: 0.8825 \n",
      "for bus stop 10\n",
      "best parameter G: 3.0000 and best parameter cost: 128.0000 with min sMape: 0.9961 \n"
     ]
    }
   ],
   "source": [
    "#This is model predict for\n",
    "#all bus stops\n",
    "#with primal svr model.\n",
    "import pandas\n",
    "from sklearn.svm import SVR\n",
    "import numpy\n",
    "from sklearn.cross_validation import KFold\n",
    "from sklearn import cross_validation\n",
    "\n",
    "def calMAPE(X_test,result, Y_test):\n",
    "    ##MAE\n",
    "    sum_up = 0\n",
    "    size = len(X_test)\n",
    "    for i in range(size):\n",
    "        diff = 2*abs(result[i] - Y_test[i])/(abs(result[i])+abs(Y_test[i]))\n",
    "        #print(diff)\n",
    "        sum_up = sum_up + diff\n",
    "        #print(Y_test[i])\n",
    "    MAPE = sum_up/size\n",
    "    #print(size)\n",
    "    #print(MAPE)\n",
    "    return MAPE\n",
    "def findPara(X,Y):\n",
    "    kf = KFold(len(X), n_folds=5)\n",
    "    costArray = numpy.array([2**(-5), 2**(-3), 2**(-1), 2**1, 2**3, 2**5, 2**7, 2**9, 2**11, 2**13, 2**15])\n",
    "    gArray = numpy.array([0.001, 0.005, 0.01, 0.05, 0.1, 0.2, 0.4, 0.5, 0.9, 1.5, 3])\n",
    "    #mapeArray = numpy.array(0)\n",
    "    #costArray = [1,2]\n",
    "    #gArray = [0.1,0.2]\n",
    "    resultTable = [[0 for x in range(len(costArray)*len(gArray))] for x in range(3)] \n",
    "    #\n",
    "    i =0\n",
    "    for g in gArray:\n",
    "        for cost in costArray:\n",
    "            resultTable[0][i] = g\n",
    "            resultTable[1][i] = cost\n",
    "            mapeTotal = 0\n",
    "            for train, test in kf:\n",
    "        \n",
    "                X_train, X_test, y_train, y_test = X[train], X[test], Y[train,0], Y[test,0]\n",
    "                #previousarrvial = Y[test,1]\n",
    "                #Change kernels.\n",
    "                rbf = SVR(kernel='rbf',C = cost, gamma=g)\n",
    "                rbf.fit(X_train,y_train)\n",
    "                result = rbf.predict(X_test)\n",
    "\n",
    "                thisMape = calMAPE(X_test,result,y_test)\n",
    "                mapeTotal = mapeTotal + thisMape\n",
    "\n",
    "            mapeCV = mapeTotal/5\n",
    "            resultTable[2][i] = mapeCV\n",
    "            i = i+1\n",
    "  \n",
    "    minMape =  min(resultTable[2])\n",
    "    index = resultTable[2].index(min(resultTable[2]))\n",
    "    BestG = resultTable[0][index]\n",
    "    BestCost = resultTable[1][index]\n",
    "    print('best parameter G: {0:.4f} and best parameter cost: {1:.4f} with min sMape: {2:.4f} ').format(BestG,BestCost,minMape)\n",
    "    \n",
    "\n",
    "    \n",
    "for i in ['1','2','3','4','5','6','7','8','9','10']:   \n",
    "\n",
    "    Data = r'./data_new/bustStop_'+i+'.csv'\n",
    "    #split the original extraData into Dif_file which contains y(real difference)\n",
    "    #and Previous which contains the arrival_time of previous_bus_stop(used for MAPE)\n",
    "    Dif = r'./data_new/extraData_'+i+'.csv'\n",
    "    #mu = r'./mu_new/mu_'+i+'.csv'\n",
    "    #sigma = r'./sigma_new/sigma_'+i+'.csv'\n",
    "    X = pandas.read_csv(Data,names = ['a','b','c','d','e','f','g','h','i','j','k']);\n",
    "    X = X.values\n",
    "    Y = pandas.read_csv(Dif,names=['diff']);\n",
    "    Y = Y.values\n",
    "    #mu = pandas.read_csv(mu)\n",
    "    #mu = int(mu.columns.values[0])\n",
    "    #sigma = pandas.read_csv(sigma)\n",
    "    #sigma = int(sigma.columns.values[0])\n",
    "    print('for bus stop {0}').format(i)\n",
    "    findPara(X,Y)\n",
    "\n",
    "\t\n",
    "\n",
    "\n",
    "\n",
    "\n",
    "\n",
    "\n",
    "\n"
   ]
  },
  {
   "cell_type": "code",
   "execution_count": null,
   "metadata": {
    "collapsed": true
   },
   "outputs": [],
   "source": []
  },
  {
   "cell_type": "code",
   "execution_count": null,
   "metadata": {
    "collapsed": true
   },
   "outputs": [],
   "source": []
  }
 ],
 "metadata": {
  "kernelspec": {
   "display_name": "Python 2",
   "language": "python",
   "name": "python2"
  },
  "language_info": {
   "codemirror_mode": {
    "name": "ipython",
    "version": 2
   },
   "file_extension": ".py",
   "mimetype": "text/x-python",
   "name": "python",
   "nbconvert_exporter": "python",
   "pygments_lexer": "ipython2",
   "version": "2.7.10"
  }
 },
 "nbformat": 4,
 "nbformat_minor": 0
}
